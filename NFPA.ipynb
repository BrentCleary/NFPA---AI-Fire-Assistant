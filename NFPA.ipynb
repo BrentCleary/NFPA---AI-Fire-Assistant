{
 "cells": [
  {
   "cell_type": "markdown",
   "metadata": {},
   "source": [
    "# Fire Agent with LlamaIndex\n",
    "\n",
    "## Install Dependencies"
   ]
  },
  {
   "cell_type": "code",
   "execution_count": 1,
   "metadata": {},
   "outputs": [
    {
     "name": "stdout",
     "output_type": "stream",
     "text": [
      "Collecting uv\n",
      "  Using cached uv-0.4.27-py3-none-manylinux_2_17_x86_64.manylinux2014_x86_64.whl.metadata (11 kB)\n",
      "Using cached uv-0.4.27-py3-none-manylinux_2_17_x86_64.manylinux2014_x86_64.whl (13.8 MB)\n",
      "Installing collected packages: uv\n",
      "Successfully installed uv-0.4.27\n"
     ]
    }
   ],
   "source": [
    "# !pip install uv\n",
    "# !uv pip install --system -qU llama-index==0.11.6 llama-index-llms-openai llama-index-readers-file llama-index-embeddings-openai llama-index-llms-openai-like \"openinference-instrumentation-llama-index>=2\" arize-phoenix python-dotenv"
   ]
  },
  {
   "cell_type": "markdown",
   "metadata": {},
   "source": [
    "## Setup API Keys\n",
    "To run the rest of the notebook you will need access to an OctoAI API key. You can sign up for an account [here](https://octoai.cloud/). If you need further guidance you can check OctoAI's [documentation page](https://octo.ai/docs/getting-started/how-to-create-octoai-access-token)."
   ]
  },
  {
   "cell_type": "code",
   "execution_count": 1,
   "metadata": {},
   "outputs": [],
   "source": [
    "from os import environ\n",
    "from dotenv import load_dotenv\n",
    "\n",
    "load_dotenv()\n",
    "\n",
    "OPENAI_API_KEY = environ[\"OPENAI_API_KEY\"]"
   ]
  },
  {
   "cell_type": "markdown",
   "metadata": {},
   "source": [
    "## Import libraries and setup LlamaIndex"
   ]
  },
  {
   "cell_type": "code",
   "execution_count": 2,
   "metadata": {},
   "outputs": [],
   "source": [
    "from llama_index.core import (\n",
    "    SimpleDirectoryReader,\n",
    "    VectorStoreIndex,\n",
    "    StorageContext,\n",
    "    load_index_from_storage,\n",
    ")\n",
    "from llama_index.core.tools import QueryEngineTool, ToolMetadata\n",
    "from llama_index.core.agent import ReActAgent\n",
    "from llama_index.llms.openai import OpenAI\n",
    "\n",
    "\n",
    "# Create an llm object to use for the QueryEngine and the ReActAgent\n",
    "llm = OpenAI(model=\"gpt-4\")"
   ]
  },
  {
   "cell_type": "markdown",
   "metadata": {},
   "source": [
    "# Set up Phoenix"
   ]
  },
  {
   "cell_type": "code",
   "execution_count": 6,
   "metadata": {},
   "outputs": [
    {
     "name": "stderr",
     "output_type": "stream",
     "text": [
      "/home/hongeinh/anaconda3/envs/hackathon/lib/python3.11/site-packages/tqdm/auto.py:21: TqdmWarning: IProgress not found. Please update jupyter and ipywidgets. See https://ipywidgets.readthedocs.io/en/stable/user_install.html\n",
      "  from .autonotebook import tqdm as notebook_tqdm\n"
     ]
    },
    {
     "name": "stdout",
     "output_type": "stream",
     "text": [
      "🌍 To view the Phoenix app in your browser, visit http://localhost:6006/\n",
      "📖 For more information on how to use Phoenix, check out https://docs.arize.com/phoenix\n"
     ]
    }
   ],
   "source": [
    "import phoenix as px\n",
    "session = px.launch_app()"
   ]
  },
  {
   "cell_type": "code",
   "execution_count": 7,
   "metadata": {},
   "outputs": [
    {
     "name": "stdout",
     "output_type": "stream",
     "text": [
      "🔭 OpenTelemetry Tracing Details 🔭\n",
      "|  Phoenix Project: default\n",
      "|  Span Processor: SimpleSpanProcessor\n",
      "|  Collector Endpoint: localhost:4317\n",
      "|  Transport: gRPC\n",
      "|  Transport Headers: {'user-agent': '****'}\n",
      "|  \n",
      "|  Using a default SpanProcessor. `add_span_processor` will overwrite this default.\n",
      "|  \n",
      "|  `register` has set this TracerProvider as the global OpenTelemetry default.\n",
      "|  To disable this behavior, call `register` with `set_global_tracer_provider=False`.\n",
      "\n"
     ]
    }
   ],
   "source": [
    "from openinference.instrumentation.llama_index import LlamaIndexInstrumentor\n",
    "from phoenix.otel import register\n",
    "\n",
    "tracer_provider = register()\n",
    "LlamaIndexInstrumentor().instrument(tracer_provider=tracer_provider)"
   ]
  },
  {
   "cell_type": "markdown",
   "metadata": {},
   "source": [
    "## Load Documents"
   ]
  },
  {
   "cell_type": "code",
   "execution_count": 8,
   "metadata": {},
   "outputs": [],
   "source": [
    "try:\n",
    "    storage_context = StorageContext.from_defaults(\n",
    "        persist_dir=\"./storage/nfpa\"\n",
    "    )\n",
    "    nfpa_index = load_index_from_storage(storage_context)\n",
    "\n",
    "    index_loaded = True\n",
    "except:\n",
    "    index_loaded = False"
   ]
  },
  {
   "cell_type": "markdown",
   "metadata": {},
   "source": [
    "This is the point we create our vector indexes, by calculating the embedding vectors for each of the chunks. You only need to run this once."
   ]
  },
  {
   "cell_type": "code",
   "execution_count": 9,
   "metadata": {},
   "outputs": [],
   "source": [
    "if not index_loaded:\n",
    "    # load data\n",
    "    nfpa_docs = SimpleDirectoryReader(\n",
    "        input_files=[\"./NFPA10-2022.pdf\"]\n",
    "    ).load_data()\n",
    "\n",
    "    # build index\n",
    "    nfpa_index = VectorStoreIndex.from_documents(nfpa_docs, show_progress=True)\n",
    "\n",
    "    # persist index\n",
    "    nfpa_index.storage_context.persist(persist_dir=\"./storage/nfpa\")"
   ]
  },
  {
   "cell_type": "markdown",
   "metadata": {},
   "source": [
    "Now create the query engines."
   ]
  },
  {
   "cell_type": "code",
   "execution_count": 10,
   "metadata": {},
   "outputs": [],
   "source": [
    "nfpa_engine = nfpa_index.as_query_engine(similarity_top_k=3, llm=llm)"
   ]
  },
  {
   "cell_type": "markdown",
   "metadata": {},
   "source": [
    "We can now define the query engines as tools that will be used by the agent.\n",
    "\n",
    "As there is a query engine per document we need to also define one tool for each of them."
   ]
  },
  {
   "cell_type": "code",
   "execution_count": 11,
   "metadata": {},
   "outputs": [],
   "source": [
    "query_engine_tools = [\n",
    "    QueryEngineTool(\n",
    "        query_engine=nfpa_engine,\n",
    "        metadata=ToolMetadata(\n",
    "            name=\"NFPA\",\n",
    "            description=(\n",
    "                \"Provides information about Fire regulations for year 2022. \"\n",
    "                \"Use a detailed plain text question as input to the tool.\"\n",
    "            ),\n",
    "        ),\n",
    "    )\n",
    "]"
   ]
  },
  {
   "cell_type": "markdown",
   "metadata": {},
   "source": [
    "## Creating the Agent\n",
    "Now we have all the elements to create a LlamaIndex ReactAgent"
   ]
  },
  {
   "cell_type": "code",
   "execution_count": 12,
   "metadata": {},
   "outputs": [],
   "source": [
    "agent = ReActAgent.from_tools(\n",
    "    query_engine_tools,\n",
    "    llm=llm,\n",
    "    verbose=True,\n",
    "    max_turns=10,\n",
    ")"
   ]
  },
  {
   "cell_type": "code",
   "execution_count": 14,
   "metadata": {},
   "outputs": [
    {
     "name": "stdout",
     "output_type": "stream",
     "text": [
      "> Running step ba3263fa-8c81-401e-aebd-bbfade5de226. Step input: What would a D Class fire extinguisher be used for?\n",
      "\u001b[1;3;38;5;200mThought: The user is asking about the use of a D Class fire extinguisher. I can use the NFPA tool to get the specific information about this type of fire extinguisher.\n",
      "Action: NFPA\n",
      "Action Input: {'input': 'What is a D Class fire extinguisher used for?'}\n",
      "\u001b[0m\u001b[1;3;34mObservation: A D Class fire extinguisher is used for fires involving various forms of combustible metals such as powders, flakes, shavings, chips, or liquid states that burn at extremely high temperatures. These fires are capable of breaking down normal extinguishing agents, causing undesirable reactions. Therefore, only extinguishing agents specifically tested and listed for use on particular combustible Class D metal fire hazards should be selected and provided.\n",
      "\u001b[0m> Running step 5ac540da-e190-42dd-8a9e-ae5e9e7a36b1. Step input: None\n",
      "\u001b[1;3;38;5;200mThought: I can answer without using any more tools. I'll use the user's language to answer.\n",
      "Answer: A D Class fire extinguisher is used for fires involving various forms of combustible metals such as powders, flakes, shavings, chips, or in a liquid state. These types of fires burn at extremely high temperatures and are capable of breaking down normal extinguishing agents, leading to potentially dangerous reactions. Therefore, only extinguishing agents that have been specifically tested and listed for use on particular combustible Class D metal fire hazards should be used.\n",
      "\u001b[0mA D Class fire extinguisher is used for fires involving various forms of combustible metals such as powders, flakes, shavings, chips, or in a liquid state. These types of fires burn at extremely high temperatures and are capable of breaking down normal extinguishing agents, leading to potentially dangerous reactions. Therefore, only extinguishing agents that have been specifically tested and listed for use on particular combustible Class D metal fire hazards should be used.\n"
     ]
    }
   ],
   "source": [
    "# query = \"What would a D Class fire extinguisher be used for?\"\n",
    "# response = agent.chat(query)\n",
    "# print(str(response))"
   ]
  },
  {
   "cell_type": "markdown",
   "metadata": {},
   "source": [
    "# Set up retrieval"
   ]
  },
  {
   "cell_type": "code",
   "execution_count": 47,
   "metadata": {},
   "outputs": [],
   "source": [
    "import re"
   ]
  },
  {
   "cell_type": "code",
   "execution_count": 48,
   "metadata": {},
   "outputs": [],
   "source": [
    "def retrieve_relevant_section(query, response_text, nfpa_index):\n",
    "    \"\"\"\n",
    "    This function retrieves the most relevant section from the NFPA document\n",
    "    based on the agent's response.\n",
    "\n",
    "    Args:\n",
    "        query (str): The user's original query.\n",
    "        response_text (str): The text content of the agent's response.\n",
    "        nfpa_index (VectorStoreIndex): The vector store index containing the NFPA document.\n",
    "\n",
    "    Returns:\n",
    "        tuple: A tuple containing the page number and section number, or None if not found.\n",
    "    \"\"\"\n",
    "\n",
    "    # Combine the query and response to create a more focused search query\n",
    "    search_query = f\"{query} {response_text}\"\n",
    "\n",
    "    # Use query engine to retrieve documents (sections)\n",
    "    query_engine = nfpa_index.as_retriever()\n",
    "    search_results = query_engine.retrieve(search_query)\n",
    "\n",
    "    # Sort results by similarity (assuming a \"score\" field in response)\n",
    "    sorted_results = sorted(search_results, key=lambda result: result.score, reverse=True)\n",
    "\n",
    "    # Extract the title of the most relevant section (top result)\n",
    "    if sorted_results:\n",
    "        top_result = sorted_results[0]\n",
    "        relevant_node = top_result.node\n",
    "        metadata = relevant_node.metadata\n",
    "\n",
    "        page_number = metadata['page_label']\n",
    "\n",
    "        # Extract section number from the text content\n",
    "        section_text = relevant_node.text\n",
    "        # Use regular expressions or other text processing techniques to extract the section number\n",
    "        # This will depend on the specific format of your document and the way section numbers are represented\n",
    "        # For example, if section numbers are at the beginning of paragraphs:\n",
    "        section_match = re.search(r\"^\\s*(\\w+\\.\\d+\\.\\d+)\", section_text, re.MULTILINE)\n",
    "        if section_match:\n",
    "            section_number = section_match.group(1)\n",
    "        else:\n",
    "            section_number = \"N/A\"  # Or handle the case where section number cannot be extracted\n",
    "\n",
    "        return page_number, section_number\n",
    "    else:\n",
    "        return None, None"
   ]
  },
  {
   "cell_type": "markdown",
   "metadata": {},
   "source": [
    "Now we can interact with the agent and ask a question."
   ]
  },
  {
   "cell_type": "code",
   "execution_count": 49,
   "metadata": {},
   "outputs": [],
   "source": [
    "def get_agent_response_with_section(query):\n",
    "    response = agent.chat(query)\n",
    "\n",
    "    # Assuming \"text\" is the attribute containing the response content\n",
    "    response_text = response.response\n",
    "\n",
    "    # Retrieve the relevant section from the PDF\n",
    "    page, section = retrieve_relevant_section(query, response_text, nfpa_index)\n",
    "\n",
    "    if section:\n",
    "        return f\"{response_text}\\n\\n**Reference:** Section {section} of NFPA 10-2022 on page {page}\"\n",
    "    else:\n",
    "        return response_text"
   ]
  },
  {
   "cell_type": "code",
   "execution_count": 50,
   "metadata": {},
   "outputs": [
    {
     "name": "stdout",
     "output_type": "stream",
     "text": [
      "> Running step 129eeefc-61e2-4bb1-af47-7d480108546e. Step input: What would a D Class fire extinguisher be used for?\n",
      "\u001b[1;3;38;5;200mThought: The user is asking about the use of a D Class fire extinguisher. I can use the NFPA tool to provide the most accurate and up-to-date information.\n",
      "Action: NFPA\n",
      "Action Input: {'input': 'What is a D Class fire extinguisher used for?'}\n",
      "\u001b[0m\u001b[1;3;34mObservation: A Class D fire extinguisher is used for fires involving combustible metals such as powders, flakes, shavings, chips, or liquid states that burn at extremely high temperatures. These fires can break down normal extinguishing agents and cause undesirable reactions, so only extinguishing agents specifically tested and listed for use on particular combustible Class D metal fire hazards should be used. The selection of fire extinguishers for these hazards should be based on equipment manufacturers' recommendations.\n",
      "\u001b[0m> Running step fdcafe7e-e931-48e9-9e01-d23434654d6b. Step input: None\n",
      "\u001b[1;3;38;5;200mThought: I can answer without using any more tools. I'll use the user's language to answer\n",
      "Answer: A Class D fire extinguisher is used for fires involving combustible metals such as powders, flakes, shavings, chips, or liquid states that burn at extremely high temperatures. These fires can break down normal extinguishing agents and cause undesirable reactions, so only extinguishing agents specifically tested and listed for use on particular combustible Class D metal fire hazards should be used. The selection of fire extinguishers for these hazards should be based on equipment manufacturers' recommendations.\n",
      "\u001b[0mA Class D fire extinguisher is used for fires involving combustible metals such as powders, flakes, shavings, chips, or liquid states that burn at extremely high temperatures. These fires can break down normal extinguishing agents and cause undesirable reactions, so only extinguishing agents specifically tested and listed for use on particular combustible Class D metal fire hazards should be used. The selection of fire extinguishers for these hazards should be based on equipment manufacturers' recommendations.\n",
      "\n",
      "**Reference:** Section C.2.11 of NFPA 10-2022 on page 46\n"
     ]
    }
   ],
   "source": [
    "query = \"What would a D Class fire extinguisher be used for?\"\n",
    "agent_response = get_agent_response_with_section(query)\n",
    "print(agent_response)"
   ]
  },
  {
   "cell_type": "code",
   "execution_count": 18,
   "metadata": {},
   "outputs": [
    {
     "name": "stderr",
     "output_type": "stream",
     "text": [
      "I0000 00:00:1729967644.958448   36077 fork_posix.cc:77] Other threads are currently calling into gRPC, skipping fork() handlers\n"
     ]
    },
    {
     "name": "stdout",
     "output_type": "stream",
     "text": [
      "Collecting dill\n",
      "  Downloading dill-0.3.9-py3-none-any.whl.metadata (10 kB)\n",
      "Downloading dill-0.3.9-py3-none-any.whl (119 kB)\n",
      "Installing collected packages: dill\n",
      "Successfully installed dill-0.3.9\n"
     ]
    }
   ],
   "source": [
    "# !pip install dill\n"
   ]
  },
  {
   "cell_type": "code",
   "execution_count": 20,
   "metadata": {},
   "outputs": [
    {
     "name": "stderr",
     "output_type": "stream",
     "text": [
      "WARNING:root:Removing unpickleable private attribute _client\n",
      "WARNING:root:Removing unpickleable private attribute _client\n",
      "WARNING:root:Removing unpickleable private attribute _chunking_tokenizer_fn\n",
      "WARNING:root:Removing unpickleable private attribute _split_fns\n",
      "WARNING:root:Removing unpickleable private attribute _sub_sentence_split_fns\n"
     ]
    }
   ],
   "source": [
    "import dill\n",
    "\n",
    "with open('react_agent.dill', 'wb') as f:\n",
    "    dill.dump(agent, f)\n"
   ]
  }
 ],
 "metadata": {
  "kernelspec": {
   "display_name": "Python 3",
   "language": "python",
   "name": "python3"
  },
  "language_info": {
   "codemirror_mode": {
    "name": "ipython",
    "version": 3
   },
   "file_extension": ".py",
   "mimetype": "text/x-python",
   "name": "python",
   "nbconvert_exporter": "python",
   "pygments_lexer": "ipython3",
   "version": "3.11.10"
  }
 },
 "nbformat": 4,
 "nbformat_minor": 2
}
